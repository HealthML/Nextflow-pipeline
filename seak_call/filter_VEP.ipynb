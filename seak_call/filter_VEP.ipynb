{
 "cells": [
  {
   "cell_type": "markdown",
   "metadata": {},
   "source": [
    "# Get protein altering annotation from VEP output"
   ]
  },
  {
   "cell_type": "code",
   "execution_count": 1,
   "metadata": {},
   "outputs": [
    {
     "name": "stdout",
     "output_type": "stream",
     "text": [
      "README  \u001b[0m\u001b[01;32mmy_output.vcf\u001b[0m*  my_output.vcf_summary.html  my_output.vcf_warnings.txt\n"
     ]
    }
   ],
   "source": [
    "ls '/mnt/projects/ukbiobank/derived/projects/kernels_VEP/vep_SPB_out/vep_ensembl/v1/output/'"
   ]
  },
  {
   "cell_type": "code",
   "execution_count": 2,
   "metadata": {},
   "outputs": [],
   "source": [
    "tsv_path = '/mnt/projects/ukbiobank/derived/projects/kernels_VEP/vep_SPB_out/vep_ensembl/v1/output/my_output.vcf' # note: it's not actually a VCF file"
   ]
  },
  {
   "cell_type": "code",
   "execution_count": 3,
   "metadata": {},
   "outputs": [],
   "source": [
    "import numpy as np\n",
    "import pandas as pd"
   ]
  },
  {
   "cell_type": "code",
   "execution_count": 4,
   "metadata": {},
   "outputs": [],
   "source": [
    "# positions in vcf files are 1-based in \"UCSC BED like format\" they are 0-based"
   ]
  },
  {
   "cell_type": "markdown",
   "metadata": {},
   "source": [
    "### VCF\n",
    "\n",
    "Be careful with ENSEMBL VEP based on VCF input:\n",
    "\n",
    ">VEP also supports using VCF (Variant Call Format) version 4.0. This is a common format used by the 1000 genomes project, and can be produced as an output format by many variant calling tools.\n",
    "\n",
    ">Users using VCF should note a peculiarity in the difference between how Ensembl and VCF describe unbalanced variants. For any unbalanced variant (i.e. insertion, deletion or unbalanced substitution), the VCF specification requires that the base immediately before the variant should be included in both the reference and variant alleles. This also affects the reported position i.e. the reported position will be one base before the actual site of the variant.\n",
    "\n",
    ">In order to parse this correctly, VEP needs to convert such variants into Ensembl-type coordinates, and it does this by removing the additional base and adjusting the coordinates accordingly.\n",
    "\n",
    ">**This means that if an identifier is not supplied for a variant (in the 3rd column of the VCF), then the identifier constructed and the position reported in VEP's output file will differ from the input.**\n",
    "\n",
    "\n",
    "This problem can be overcome with the following:\n",
    "- ensuring each variant has a unique identifier specified in the 3rd column of the VCF\n",
    "- using VCF format as output (--vcf) - this preserves the formatting of your input coordinates and alleles\n",
    "- using --minimal and --allele_number (see Complex VCF entries).\n"
   ]
  },
  {
   "cell_type": "code",
   "execution_count": 5,
   "metadata": {},
   "outputs": [
    {
     "data": {
      "text/plain": [
       "(79425722, 14)"
      ]
     },
     "execution_count": 5,
     "metadata": {},
     "output_type": "execute_result"
    }
   ],
   "source": [
    "# read the VEP output\n",
    "colnames = ['Uploaded_variation', 'Location', 'Allele', 'Gene', 'Feature', 'Feature_type', 'Consequence', 'cDNA_position', 'CDS_position', 'Protein_position',  'Amino_acids',  'Codons',  'Existing_variation', 'Extra' ]\n",
    "\n",
    "df = pd.read_csv(tsv_path, sep='\\t', comment='#', header=None, names=colnames)\n",
    "\n",
    "# note: it's stupid to read the whole dataframe into memory, probably should have used \"grep ...\" or similar to only get rows with matches to the relevant categories (see below)\n",
    "\n",
    "df.shape"
   ]
  },
  {
   "cell_type": "markdown",
   "metadata": {},
   "source": [
    "### LOF categories\n",
    "\n",
    "We use the same as in Cirulli et. al, however we don't have any frameshift variants because in v1 we filtered out indels."
   ]
  },
  {
   "cell_type": "code",
   "execution_count": 6,
   "metadata": {},
   "outputs": [],
   "source": [
    "lof_anno = pd.Series(['stop_lost','start_lost','splice_donor_variant','frameshift_variant','splice_acceptor_variant','stop_gained'])\n",
    "\n",
    "# we're being really wasteful with memory here, this needed 38G...\n",
    "# as said above, if we pre-filtered the variants we could skip this step\n",
    "is_lof = df['Consequence'].str.split(',', expand=True)\n",
    "is_lof = np.any(is_lof.apply(lambda x: x.isin(lof_anno), axis=0).values, axis=1)\n",
    "\n",
    "df = df[is_lof]"
   ]
  },
  {
   "cell_type": "code",
   "execution_count": 7,
   "metadata": {},
   "outputs": [
    {
     "data": {
      "text/plain": [
       "(458259, 14)"
      ]
     },
     "execution_count": 7,
     "metadata": {},
     "output_type": "execute_result"
    }
   ],
   "source": [
    "df.shape"
   ]
  },
  {
   "cell_type": "code",
   "execution_count": 8,
   "metadata": {},
   "outputs": [],
   "source": [
    "df_summary = df.groupby(['Uploaded_variation','Location','Allele','Gene']).size()"
   ]
  },
  {
   "cell_type": "code",
   "execution_count": null,
   "metadata": {},
   "outputs": [],
   "source": [
    "# 'Allele' is the alternative allele"
   ]
  },
  {
   "cell_type": "code",
   "execution_count": 9,
   "metadata": {},
   "outputs": [
    {
     "data": {
      "text/plain": [
       "Uploaded_variation  Location      Allele  Gene           \n",
       "10:100048833:G:T    10:100048833  T       ENSG00000120054    2\n",
       "10:100054346:C:T    10:100054346  T       ENSG00000120054    2\n",
       "10:100057011:A:G    10:100057011  G       ENSG00000120054    2\n",
       "10:100063726:C:T    10:100063726  T       ENSG00000120054    2\n",
       "10:100065187:C:T    10:100065187  T       ENSG00000120054    2\n",
       "dtype: int64"
      ]
     },
     "execution_count": 9,
     "metadata": {},
     "output_type": "execute_result"
    }
   ],
   "source": [
    "df_summary.head() # we can now save this table and use it with seak !"
   ]
  },
  {
   "cell_type": "code",
   "execution_count": 11,
   "metadata": {},
   "outputs": [
    {
     "data": {
      "text/plain": [
       "(145816,)"
      ]
     },
     "execution_count": 11,
     "metadata": {},
     "output_type": "execute_result"
    }
   ],
   "source": [
    "df_summary.shape"
   ]
  },
  {
   "cell_type": "code",
   "execution_count": 13,
   "metadata": {},
   "outputs": [
    {
     "data": {
      "text/plain": [
       "count    19274.000000\n",
       "mean         7.565425\n",
       "std          7.512683\n",
       "min          1.000000\n",
       "25%          3.000000\n",
       "50%          6.000000\n",
       "75%         10.000000\n",
       "max        188.000000\n",
       "dtype: float64"
      ]
     },
     "execution_count": 13,
     "metadata": {},
     "output_type": "execute_result"
    }
   ],
   "source": [
    "df_summary.groupby(['Gene']).size().describe()"
   ]
  },
  {
   "cell_type": "code",
   "execution_count": 12,
   "metadata": {},
   "outputs": [],
   "source": [
    "# we want to double-check that we can find the corresponding variants in the Janggu output, and order them the same way:"
   ]
  },
  {
   "cell_type": "code",
   "execution_count": 14,
   "metadata": {},
   "outputs": [],
   "source": [
    "janggu_bed_path_minus = '/mnt/projects/ukbiobank/derived/projects/kernels_VEP/vep_SPB_out/v2/minus/snps.bed.gz'"
   ]
  },
  {
   "cell_type": "code",
   "execution_count": 15,
   "metadata": {},
   "outputs": [],
   "source": [
    "janggu_bed_path_plus = '/mnt/projects/ukbiobank/derived/projects/kernels_VEP/vep_SPB_out/v2/plus/snps.bed.gz'"
   ]
  },
  {
   "cell_type": "code",
   "execution_count": 21,
   "metadata": {},
   "outputs": [],
   "source": [
    "plus_pos = pd.read_csv(janggu_bed_path_plus, sep='\\t', names=['chr','start','end','name'], dtype={'chr':str, 'start':int, 'end':int, 'name':str})"
   ]
  },
  {
   "cell_type": "code",
   "execution_count": 29,
   "metadata": {},
   "outputs": [],
   "source": [
    "ids = plus_pos['name'].str.split('_').apply(lambda x: x[0])"
   ]
  },
  {
   "cell_type": "code",
   "execution_count": 30,
   "metadata": {},
   "outputs": [
    {
     "data": {
      "text/plain": [
       "0             1:925843:A:G\n",
       "1             1:925845:G:C\n",
       "2             1:925846:G:T\n",
       "3             1:925847:G:A\n",
       "4             1:925852:T:C\n",
       "                ...       \n",
       "4858932    24:24864569:C:T\n",
       "4858933    24:24864598:C:T\n",
       "4858934    24:24864608:T:A\n",
       "4858935    24:24864609:A:C\n",
       "4858936    24:24864611:A:G\n",
       "Name: name, Length: 4858937, dtype: object"
      ]
     },
     "execution_count": 30,
     "metadata": {},
     "output_type": "execute_result"
    }
   ],
   "source": [
    "ids"
   ]
  },
  {
   "cell_type": "code",
   "execution_count": 32,
   "metadata": {},
   "outputs": [],
   "source": [
    "minus_pos = pd.read_csv(janggu_bed_path_minus, sep='\\t', names=['chr','start','end','name'], dtype={'chr':str, 'start':int, 'end':int, 'name':str})\n",
    "ids2 = minus_pos['name'].str.split('_').apply(lambda x: x[0])"
   ]
  },
  {
   "cell_type": "code",
   "execution_count": 34,
   "metadata": {},
   "outputs": [],
   "source": [
    "ids_all =  pd.concat([ids, ids2], ignore_index=True)"
   ]
  },
  {
   "cell_type": "code",
   "execution_count": 36,
   "metadata": {},
   "outputs": [],
   "source": [
    "ids_all = ids_all.unique()"
   ]
  },
  {
   "cell_type": "code",
   "execution_count": 43,
   "metadata": {},
   "outputs": [],
   "source": [
    "df_summary = df_summary.reset_index()"
   ]
  },
  {
   "cell_type": "code",
   "execution_count": 44,
   "metadata": {},
   "outputs": [],
   "source": [
    "isin_check = df_summary['Uploaded_variation'].isin(ids_all)"
   ]
  },
  {
   "cell_type": "code",
   "execution_count": 47,
   "metadata": {},
   "outputs": [
    {
     "data": {
      "text/html": [
       "<div>\n",
       "<style scoped>\n",
       "    .dataframe tbody tr th:only-of-type {\n",
       "        vertical-align: middle;\n",
       "    }\n",
       "\n",
       "    .dataframe tbody tr th {\n",
       "        vertical-align: top;\n",
       "    }\n",
       "\n",
       "    .dataframe thead th {\n",
       "        text-align: right;\n",
       "    }\n",
       "</style>\n",
       "<table border=\"1\" class=\"dataframe\">\n",
       "  <thead>\n",
       "    <tr style=\"text-align: right;\">\n",
       "      <th></th>\n",
       "      <th>Uploaded_variation</th>\n",
       "      <th>Location</th>\n",
       "      <th>Allele</th>\n",
       "      <th>Gene</th>\n",
       "      <th>0</th>\n",
       "    </tr>\n",
       "  </thead>\n",
       "  <tbody>\n",
       "    <tr>\n",
       "      <th>930</th>\n",
       "      <td>10:116621319:G:A</td>\n",
       "      <td>10:116621319</td>\n",
       "      <td>A</td>\n",
       "      <td>ENSG00000266200</td>\n",
       "      <td>3</td>\n",
       "    </tr>\n",
       "    <tr>\n",
       "      <th>931</th>\n",
       "      <td>10:116624013:C:T</td>\n",
       "      <td>10:116624013</td>\n",
       "      <td>T</td>\n",
       "      <td>ENSG00000266200</td>\n",
       "      <td>3</td>\n",
       "    </tr>\n",
       "    <tr>\n",
       "      <th>932</th>\n",
       "      <td>10:116626073:T:C</td>\n",
       "      <td>10:116626073</td>\n",
       "      <td>C</td>\n",
       "      <td>ENSG00000266200</td>\n",
       "      <td>4</td>\n",
       "    </tr>\n",
       "    <tr>\n",
       "      <th>933</th>\n",
       "      <td>10:116627875:G:C</td>\n",
       "      <td>10:116627875</td>\n",
       "      <td>C</td>\n",
       "      <td>ENSG00000266200</td>\n",
       "      <td>3</td>\n",
       "    </tr>\n",
       "    <tr>\n",
       "      <th>934</th>\n",
       "      <td>10:116627875:G:T</td>\n",
       "      <td>10:116627875</td>\n",
       "      <td>T</td>\n",
       "      <td>ENSG00000266200</td>\n",
       "      <td>3</td>\n",
       "    </tr>\n",
       "    <tr>\n",
       "      <th>...</th>\n",
       "      <td>...</td>\n",
       "      <td>...</td>\n",
       "      <td>...</td>\n",
       "      <td>...</td>\n",
       "      <td>...</td>\n",
       "    </tr>\n",
       "    <tr>\n",
       "      <th>145160</th>\n",
       "      <td>9:88132964:A:G</td>\n",
       "      <td>9:88132964</td>\n",
       "      <td>G</td>\n",
       "      <td>ENSG00000177910</td>\n",
       "      <td>1</td>\n",
       "    </tr>\n",
       "    <tr>\n",
       "      <th>145161</th>\n",
       "      <td>9:88133652:C:T</td>\n",
       "      <td>9:88133652</td>\n",
       "      <td>T</td>\n",
       "      <td>ENSG00000177910</td>\n",
       "      <td>1</td>\n",
       "    </tr>\n",
       "    <tr>\n",
       "      <th>145162</th>\n",
       "      <td>9:88134767:C:T</td>\n",
       "      <td>9:88134767</td>\n",
       "      <td>T</td>\n",
       "      <td>ENSG00000177910</td>\n",
       "      <td>1</td>\n",
       "    </tr>\n",
       "    <tr>\n",
       "      <th>145591</th>\n",
       "      <td>9:97292677:T:C</td>\n",
       "      <td>9:97292677</td>\n",
       "      <td>C</td>\n",
       "      <td>ENSG00000254633</td>\n",
       "      <td>1</td>\n",
       "    </tr>\n",
       "    <tr>\n",
       "      <th>145592</th>\n",
       "      <td>9:97292677:T:C</td>\n",
       "      <td>9:97292677</td>\n",
       "      <td>C</td>\n",
       "      <td>ENSG00000254876</td>\n",
       "      <td>1</td>\n",
       "    </tr>\n",
       "  </tbody>\n",
       "</table>\n",
       "<p>550 rows × 5 columns</p>\n",
       "</div>"
      ],
      "text/plain": [
       "       Uploaded_variation      Location Allele             Gene  0\n",
       "930      10:116621319:G:A  10:116621319      A  ENSG00000266200  3\n",
       "931      10:116624013:C:T  10:116624013      T  ENSG00000266200  3\n",
       "932      10:116626073:T:C  10:116626073      C  ENSG00000266200  4\n",
       "933      10:116627875:G:C  10:116627875      C  ENSG00000266200  3\n",
       "934      10:116627875:G:T  10:116627875      T  ENSG00000266200  3\n",
       "...                   ...           ...    ...              ... ..\n",
       "145160     9:88132964:A:G    9:88132964      G  ENSG00000177910  1\n",
       "145161     9:88133652:C:T    9:88133652      T  ENSG00000177910  1\n",
       "145162     9:88134767:C:T    9:88134767      T  ENSG00000177910  1\n",
       "145591     9:97292677:T:C    9:97292677      C  ENSG00000254633  1\n",
       "145592     9:97292677:T:C    9:97292677      C  ENSG00000254876  1\n",
       "\n",
       "[550 rows x 5 columns]"
      ]
     },
     "execution_count": 47,
     "metadata": {},
     "output_type": "execute_result"
    }
   ],
   "source": [
    "df_summary[~isin_check] # 550 missing variants"
   ]
  },
  {
   "cell_type": "code",
   "execution_count": 51,
   "metadata": {},
   "outputs": [
    {
     "data": {
      "text/plain": [
       "154"
      ]
     },
     "execution_count": 51,
     "metadata": {},
     "output_type": "execute_result"
    }
   ],
   "source": [
    "len(df_summary[~isin_check]['Gene'].unique()) # ... coming from 154 genes "
   ]
  },
  {
   "cell_type": "code",
   "execution_count": 52,
   "metadata": {},
   "outputs": [],
   "source": [
    "bed_file = '/mnt/dsets/reference_genomes/ensembl/Homo_sapiens.GRCh38.genes.bed'"
   ]
  },
  {
   "cell_type": "code",
   "execution_count": 57,
   "metadata": {},
   "outputs": [],
   "source": [
    "genes = pd.read_csv(bed_file, sep='\\t', header=None, names=['chr','start','end','name','score','strand'])"
   ]
  },
  {
   "cell_type": "code",
   "execution_count": 59,
   "metadata": {},
   "outputs": [],
   "source": [
    "gene_names = genes['name'].apply(lambda x: x.split('_')[0])"
   ]
  },
  {
   "cell_type": "code",
   "execution_count": 67,
   "metadata": {},
   "outputs": [
    {
     "data": {
      "text/plain": [
       "6"
      ]
     },
     "execution_count": 67,
     "metadata": {},
     "output_type": "execute_result"
    }
   ],
   "source": [
    "df_summary[~isin_check]['Gene'].isin(gene_names).sum() # only 6 of the variants are in genes we ran Janggu for. still weird but ok..."
   ]
  },
  {
   "cell_type": "code",
   "execution_count": 70,
   "metadata": {},
   "outputs": [],
   "source": [
    "var_pos = df_summary['Uploaded_variation'].str.split(':')"
   ]
  },
  {
   "cell_type": "code",
   "execution_count": 76,
   "metadata": {},
   "outputs": [],
   "source": [
    "var_pos = np.stack(var_pos.values)"
   ]
  },
  {
   "cell_type": "code",
   "execution_count": 78,
   "metadata": {},
   "outputs": [],
   "source": [
    "var_pos = pd.DataFrame(var_pos, columns=['chr','pos','ref','alt'])"
   ]
  },
  {
   "cell_type": "code",
   "execution_count": 91,
   "metadata": {},
   "outputs": [],
   "source": [
    "var_pos['pos']=var_pos['pos'].astype(np.int32)\n",
    "var_pos['chr']=var_pos['chr'].astype(np.int32) # the Y and X where coded as 24 and 23 "
   ]
  },
  {
   "cell_type": "code",
   "execution_count": 98,
   "metadata": {},
   "outputs": [],
   "source": [
    "sortorder = var_pos.sort_values(['chr','pos','ref','alt']).index"
   ]
  },
  {
   "cell_type": "code",
   "execution_count": 99,
   "metadata": {},
   "outputs": [],
   "source": [
    "df_summary = df_summary.loc[sortorder]"
   ]
  },
  {
   "cell_type": "code",
   "execution_count": 107,
   "metadata": {},
   "outputs": [],
   "source": [
    "df_summary.rename(columns={0:'n_affected'}, inplace=True)"
   ]
  },
  {
   "cell_type": "code",
   "execution_count": 109,
   "metadata": {},
   "outputs": [],
   "source": [
    "import os"
   ]
  },
  {
   "cell_type": "code",
   "execution_count": 111,
   "metadata": {},
   "outputs": [],
   "source": [
    "df_summary.to_csv('/mnt/projects/ukbiobank/derived/projects/kernels_VEP/vep_SPB_out/v2/ensembl_vep/lof_filtered.tsv', sep='\\t', index=False)"
   ]
  },
  {
   "cell_type": "code",
   "execution_count": null,
   "metadata": {},
   "outputs": [],
   "source": [
    "df_summary = pd.read_csv()"
   ]
  },
  {
   "cell_type": "markdown",
   "metadata": {},
   "source": [
    "## Code below were some random tests I did to implement a loader for this type of dataframe"
   ]
  },
  {
   "cell_type": "code",
   "execution_count": 123,
   "metadata": {},
   "outputs": [],
   "source": [
    "import pandas as pd\n",
    "import numpy as np"
   ]
  },
  {
   "cell_type": "code",
   "execution_count": 124,
   "metadata": {},
   "outputs": [],
   "source": [
    "from seak.data_loaders import AnnotationLoader"
   ]
  },
  {
   "cell_type": "code",
   "execution_count": 125,
   "metadata": {},
   "outputs": [],
   "source": [
    "df_summary = pd.read_csv('/mnt/projects/ukbiobank/derived/projects/kernels_VEP/vep_SPB_out/v2/ensembl_vep/lof_filtered.tsv', sep='\\t')"
   ]
  },
  {
   "cell_type": "code",
   "execution_count": 126,
   "metadata": {},
   "outputs": [
    {
     "data": {
      "text/html": [
       "<div>\n",
       "<style scoped>\n",
       "    .dataframe tbody tr th:only-of-type {\n",
       "        vertical-align: middle;\n",
       "    }\n",
       "\n",
       "    .dataframe tbody tr th {\n",
       "        vertical-align: top;\n",
       "    }\n",
       "\n",
       "    .dataframe thead th {\n",
       "        text-align: right;\n",
       "    }\n",
       "</style>\n",
       "<table border=\"1\" class=\"dataframe\">\n",
       "  <thead>\n",
       "    <tr style=\"text-align: right;\">\n",
       "      <th></th>\n",
       "      <th>Uploaded_variation</th>\n",
       "      <th>Location</th>\n",
       "      <th>Allele</th>\n",
       "      <th>Gene</th>\n",
       "      <th>n_affected</th>\n",
       "    </tr>\n",
       "  </thead>\n",
       "  <tbody>\n",
       "    <tr>\n",
       "      <th>0</th>\n",
       "      <td>1:69293:C:A</td>\n",
       "      <td>1:69293</td>\n",
       "      <td>A</td>\n",
       "      <td>ENSG00000186092</td>\n",
       "      <td>2</td>\n",
       "    </tr>\n",
       "    <tr>\n",
       "      <th>1</th>\n",
       "      <td>1:69745:C:T</td>\n",
       "      <td>1:69745</td>\n",
       "      <td>T</td>\n",
       "      <td>ENSG00000186092</td>\n",
       "      <td>2</td>\n",
       "    </tr>\n",
       "    <tr>\n",
       "      <th>2</th>\n",
       "      <td>1:69849:G:A</td>\n",
       "      <td>1:69849</td>\n",
       "      <td>A</td>\n",
       "      <td>ENSG00000186092</td>\n",
       "      <td>2</td>\n",
       "    </tr>\n",
       "    <tr>\n",
       "      <th>3</th>\n",
       "      <td>1:69866:C:A</td>\n",
       "      <td>1:69866</td>\n",
       "      <td>A</td>\n",
       "      <td>ENSG00000186092</td>\n",
       "      <td>2</td>\n",
       "    </tr>\n",
       "    <tr>\n",
       "      <th>4</th>\n",
       "      <td>1:925960:C:T</td>\n",
       "      <td>1:925960</td>\n",
       "      <td>T</td>\n",
       "      <td>ENSG00000187634</td>\n",
       "      <td>11</td>\n",
       "    </tr>\n",
       "    <tr>\n",
       "      <th>...</th>\n",
       "      <td>...</td>\n",
       "      <td>...</td>\n",
       "      <td>...</td>\n",
       "      <td>...</td>\n",
       "      <td>...</td>\n",
       "    </tr>\n",
       "    <tr>\n",
       "      <th>145811</th>\n",
       "      <td>24:21549016:C:T</td>\n",
       "      <td>Y:21549016</td>\n",
       "      <td>T</td>\n",
       "      <td>ENSG00000242875</td>\n",
       "      <td>1</td>\n",
       "    </tr>\n",
       "    <tr>\n",
       "      <th>145812</th>\n",
       "      <td>24:22180882:T:A</td>\n",
       "      <td>Y:22180882</td>\n",
       "      <td>A</td>\n",
       "      <td>ENSG00000169800</td>\n",
       "      <td>2</td>\n",
       "    </tr>\n",
       "    <tr>\n",
       "      <th>145813</th>\n",
       "      <td>24:22405443:G:A</td>\n",
       "      <td>Y:22405443</td>\n",
       "      <td>A</td>\n",
       "      <td>ENSG00000226941</td>\n",
       "      <td>2</td>\n",
       "    </tr>\n",
       "    <tr>\n",
       "      <th>145814</th>\n",
       "      <td>24:23167257:C:T</td>\n",
       "      <td>Y:23167257</td>\n",
       "      <td>T</td>\n",
       "      <td>ENSG00000188120</td>\n",
       "      <td>5</td>\n",
       "    </tr>\n",
       "    <tr>\n",
       "      <th>145815</th>\n",
       "      <td>24:25043944:A:G</td>\n",
       "      <td>Y:25043944</td>\n",
       "      <td>G</td>\n",
       "      <td>ENSG00000185894</td>\n",
       "      <td>3</td>\n",
       "    </tr>\n",
       "  </tbody>\n",
       "</table>\n",
       "<p>145816 rows × 5 columns</p>\n",
       "</div>"
      ],
      "text/plain": [
       "       Uploaded_variation    Location Allele             Gene  n_affected\n",
       "0             1:69293:C:A     1:69293      A  ENSG00000186092           2\n",
       "1             1:69745:C:T     1:69745      T  ENSG00000186092           2\n",
       "2             1:69849:G:A     1:69849      A  ENSG00000186092           2\n",
       "3             1:69866:C:A     1:69866      A  ENSG00000186092           2\n",
       "4            1:925960:C:T    1:925960      T  ENSG00000187634          11\n",
       "...                   ...         ...    ...              ...         ...\n",
       "145811    24:21549016:C:T  Y:21549016      T  ENSG00000242875           1\n",
       "145812    24:22180882:T:A  Y:22180882      A  ENSG00000169800           2\n",
       "145813    24:22405443:G:A  Y:22405443      A  ENSG00000226941           2\n",
       "145814    24:23167257:C:T  Y:23167257      T  ENSG00000188120           5\n",
       "145815    24:25043944:A:G  Y:25043944      G  ENSG00000185894           3\n",
       "\n",
       "[145816 rows x 5 columns]"
      ]
     },
     "execution_count": 126,
     "metadata": {},
     "output_type": "execute_result"
    }
   ],
   "source": [
    "df_summary"
   ]
  },
  {
   "cell_type": "code",
   "execution_count": 131,
   "metadata": {},
   "outputs": [],
   "source": [
    "loc = np.stack(df_summary['Location'].str.split(':'))\n",
    "chrom = loc[:,0]\n",
    "pos = loc[:,1].astype(np.int32)"
   ]
  },
  {
   "cell_type": "code",
   "execution_count": 142,
   "metadata": {},
   "outputs": [],
   "source": [
    "uploaded_variation = df_summary['Uploaded_variation']"
   ]
  },
  {
   "cell_type": "code",
   "execution_count": 135,
   "metadata": {},
   "outputs": [],
   "source": [
    "dummy_data = np.random.randn(len(loc),3)"
   ]
  },
  {
   "cell_type": "code",
   "execution_count": 138,
   "metadata": {},
   "outputs": [],
   "source": [
    "gene = df_summary['Gene']"
   ]
  },
  {
   "cell_type": "code",
   "execution_count": 139,
   "metadata": {},
   "outputs": [],
   "source": [
    "allele = df_summary['Allele']"
   ]
  },
  {
   "cell_type": "code",
   "execution_count": 171,
   "metadata": {},
   "outputs": [],
   "source": [
    "iddf =  pd.DataFrame(dummy_data, index=pd.MultiIndex.from_arrays([gene, uploaded_variation], names=['gene','vid']), columns=['x1','x2','x3'])"
   ]
  },
  {
   "cell_type": "code",
   "execution_count": 174,
   "metadata": {},
   "outputs": [
    {
     "data": {
      "text/html": [
       "<div>\n",
       "<style scoped>\n",
       "    .dataframe tbody tr th:only-of-type {\n",
       "        vertical-align: middle;\n",
       "    }\n",
       "\n",
       "    .dataframe tbody tr th {\n",
       "        vertical-align: top;\n",
       "    }\n",
       "\n",
       "    .dataframe thead th {\n",
       "        text-align: right;\n",
       "    }\n",
       "</style>\n",
       "<table border=\"1\" class=\"dataframe\">\n",
       "  <thead>\n",
       "    <tr style=\"text-align: right;\">\n",
       "      <th></th>\n",
       "      <th></th>\n",
       "      <th>x1</th>\n",
       "      <th>x2</th>\n",
       "      <th>x3</th>\n",
       "    </tr>\n",
       "    <tr>\n",
       "      <th>gene</th>\n",
       "      <th>vid</th>\n",
       "      <th></th>\n",
       "      <th></th>\n",
       "      <th></th>\n",
       "    </tr>\n",
       "  </thead>\n",
       "  <tbody>\n",
       "    <tr>\n",
       "      <th>ENSG00000186092</th>\n",
       "      <th>1:69745:C:T</th>\n",
       "      <td>-0.529817</td>\n",
       "      <td>-1.80892</td>\n",
       "      <td>-0.159462</td>\n",
       "    </tr>\n",
       "  </tbody>\n",
       "</table>\n",
       "</div>"
      ],
      "text/plain": [
       "                                   x1       x2        x3\n",
       "gene            vid                                     \n",
       "ENSG00000186092 1:69745:C:T -0.529817 -1.80892 -0.159462"
      ]
     },
     "execution_count": 174,
     "metadata": {},
     "output_type": "execute_result"
    }
   ],
   "source": [
    "iddf.loc[(slice(None), '1:69745:C:T'),:] # this works!"
   ]
  },
  {
   "cell_type": "code",
   "execution_count": 264,
   "metadata": {},
   "outputs": [
    {
     "data": {
      "text/plain": [
       "(2, 3)"
      ]
     },
     "execution_count": 264,
     "metadata": {},
     "output_type": "execute_result"
    }
   ],
   "source": [
    "iddf.loc[(slice(None),['1:69745:C:T','1:69849:G:A']),:].values.shape"
   ]
  },
  {
   "cell_type": "code",
   "execution_count": 236,
   "metadata": {},
   "outputs": [
    {
     "data": {
      "text/plain": [
       "(1, 3)"
      ]
     },
     "execution_count": 236,
     "metadata": {},
     "output_type": "execute_result"
    }
   ],
   "source": [
    "iddf.loc[(slice(None), '1:69745:C:T'),:].shape"
   ]
  },
  {
   "cell_type": "code",
   "execution_count": null,
   "metadata": {},
   "outputs": [],
   "source": [
    "iddf.loc[(slice(None), '1:69745:C:T'),:].shape"
   ]
  },
  {
   "cell_type": "code",
   "execution_count": 230,
   "metadata": {},
   "outputs": [
    {
     "data": {
      "text/html": [
       "<div>\n",
       "<style scoped>\n",
       "    .dataframe tbody tr th:only-of-type {\n",
       "        vertical-align: middle;\n",
       "    }\n",
       "\n",
       "    .dataframe tbody tr th {\n",
       "        vertical-align: top;\n",
       "    }\n",
       "\n",
       "    .dataframe thead th {\n",
       "        text-align: right;\n",
       "    }\n",
       "</style>\n",
       "<table border=\"1\" class=\"dataframe\">\n",
       "  <thead>\n",
       "    <tr style=\"text-align: right;\">\n",
       "      <th></th>\n",
       "      <th></th>\n",
       "      <th>x1</th>\n",
       "      <th>x2</th>\n",
       "      <th>x3</th>\n",
       "    </tr>\n",
       "    <tr>\n",
       "      <th>gene</th>\n",
       "      <th>vid</th>\n",
       "      <th></th>\n",
       "      <th></th>\n",
       "      <th></th>\n",
       "    </tr>\n",
       "  </thead>\n",
       "  <tbody>\n",
       "    <tr>\n",
       "      <th rowspan=\"4\" valign=\"top\">ENSG00000186092</th>\n",
       "      <th>1:69293:C:A</th>\n",
       "      <td>-0.520332</td>\n",
       "      <td>0.120156</td>\n",
       "      <td>0.368345</td>\n",
       "    </tr>\n",
       "    <tr>\n",
       "      <th>1:69745:C:T</th>\n",
       "      <td>-0.529817</td>\n",
       "      <td>-1.808920</td>\n",
       "      <td>-0.159462</td>\n",
       "    </tr>\n",
       "    <tr>\n",
       "      <th>1:69849:G:A</th>\n",
       "      <td>0.579482</td>\n",
       "      <td>0.040292</td>\n",
       "      <td>-2.020403</td>\n",
       "    </tr>\n",
       "    <tr>\n",
       "      <th>1:69866:C:A</th>\n",
       "      <td>-1.479302</td>\n",
       "      <td>-0.051390</td>\n",
       "      <td>0.486806</td>\n",
       "    </tr>\n",
       "  </tbody>\n",
       "</table>\n",
       "</div>"
      ],
      "text/plain": [
       "                                   x1        x2        x3\n",
       "gene            vid                                      \n",
       "ENSG00000186092 1:69293:C:A -0.520332  0.120156  0.368345\n",
       "                1:69745:C:T -0.529817 -1.808920 -0.159462\n",
       "                1:69849:G:A  0.579482  0.040292 -2.020403\n",
       "                1:69866:C:A -1.479302 -0.051390  0.486806"
      ]
     },
     "execution_count": 230,
     "metadata": {},
     "output_type": "execute_result"
    }
   ],
   "source": [
    "iddf.loc[('ENSG00000186092', slice(None)),] # this works!"
   ]
  },
  {
   "cell_type": "code",
   "execution_count": 231,
   "metadata": {},
   "outputs": [
    {
     "data": {
      "text/plain": [
       "(4, 3)"
      ]
     },
     "execution_count": 231,
     "metadata": {},
     "output_type": "execute_result"
    }
   ],
   "source": [
    "iddf.loc[('ENSG00000186092', slice(None)),].values.shape # this works!"
   ]
  },
  {
   "cell_type": "code",
   "execution_count": 265,
   "metadata": {},
   "outputs": [
    {
     "data": {
      "text/plain": [
       "(5, 3)"
      ]
     },
     "execution_count": 265,
     "metadata": {},
     "output_type": "execute_result"
    }
   ],
   "source": [
    "iddf.loc[(['ENSG00000186092','ENSG00000226941'], slice(None)),].values.shape # this works!"
   ]
  },
  {
   "cell_type": "code",
   "execution_count": 269,
   "metadata": {},
   "outputs": [
    {
     "data": {
      "text/plain": [
       "(2, 3)"
      ]
     },
     "execution_count": 269,
     "metadata": {},
     "output_type": "execute_result"
    }
   ],
   "source": [
    "# watch out, can be empty...\n",
    "iddf.loc[(['ENSG00000186092','ENSG00000226941'],['1:69745:C:T','1:69849:G:A']),].values.shape "
   ]
  },
  {
   "cell_type": "code",
   "execution_count": 232,
   "metadata": {},
   "outputs": [
    {
     "data": {
      "text/plain": [
       "(3,)"
      ]
     },
     "execution_count": 232,
     "metadata": {},
     "output_type": "execute_result"
    }
   ],
   "source": [
    "iddf.loc[('ENSG00000186092','1:69745:C:T'),].shape #boo!"
   ]
  },
  {
   "cell_type": "code",
   "execution_count": 246,
   "metadata": {},
   "outputs": [
    {
     "data": {
      "text/plain": [
       "array([[-0.52981709, -1.80892002, -0.15946222],\n",
       "       [ 0.57948154,  0.04029193, -2.02040341]])"
      ]
     },
     "execution_count": 246,
     "metadata": {},
     "output_type": "execute_result"
    }
   ],
   "source": [
    "iddf.loc['ENSG00000186092'].loc[['1:69745:C:T','1:69849:G:A']].values"
   ]
  },
  {
   "cell_type": "code",
   "execution_count": 273,
   "metadata": {},
   "outputs": [
    {
     "data": {
      "text/plain": [
       "(1, 3)"
      ]
     },
     "execution_count": 273,
     "metadata": {},
     "output_type": "execute_result"
    }
   ],
   "source": [
    "iddf.loc[('ENSG00000186092',['1:69745:C:T']),].shape"
   ]
  },
  {
   "cell_type": "code",
   "execution_count": 237,
   "metadata": {},
   "outputs": [
    {
     "data": {
      "text/plain": [
       "(1, 3)"
      ]
     },
     "execution_count": 237,
     "metadata": {},
     "output_type": "execute_result"
    }
   ],
   "source": [
    "iddf.loc[[('ENSG00000186092','1:69745:C:T'),]].shape"
   ]
  },
  {
   "cell_type": "code",
   "execution_count": 271,
   "metadata": {},
   "outputs": [
    {
     "data": {
      "text/plain": [
       "(1, 3)"
      ]
     },
     "execution_count": 271,
     "metadata": {},
     "output_type": "execute_result"
    }
   ],
   "source": [
    "iddf.loc['ENSG00000186092'].loc[['1:69745:C:T']].shape"
   ]
  },
  {
   "cell_type": "code",
   "execution_count": 286,
   "metadata": {},
   "outputs": [
    {
     "data": {
      "text/html": [
       "<div>\n",
       "<style scoped>\n",
       "    .dataframe tbody tr th:only-of-type {\n",
       "        vertical-align: middle;\n",
       "    }\n",
       "\n",
       "    .dataframe tbody tr th {\n",
       "        vertical-align: top;\n",
       "    }\n",
       "\n",
       "    .dataframe thead th {\n",
       "        text-align: right;\n",
       "    }\n",
       "</style>\n",
       "<table border=\"1\" class=\"dataframe\">\n",
       "  <thead>\n",
       "    <tr style=\"text-align: right;\">\n",
       "      <th></th>\n",
       "      <th></th>\n",
       "      <th>x1</th>\n",
       "      <th>x2</th>\n",
       "      <th>x3</th>\n",
       "    </tr>\n",
       "    <tr>\n",
       "      <th>gene</th>\n",
       "      <th>vid</th>\n",
       "      <th></th>\n",
       "      <th></th>\n",
       "      <th></th>\n",
       "    </tr>\n",
       "  </thead>\n",
       "  <tbody>\n",
       "    <tr>\n",
       "      <th rowspan=\"4\" valign=\"top\">ENSG00000186092</th>\n",
       "      <th>1:69293:C:A</th>\n",
       "      <td>-0.520332</td>\n",
       "      <td>0.120156</td>\n",
       "      <td>0.368345</td>\n",
       "    </tr>\n",
       "    <tr>\n",
       "      <th>1:69745:C:T</th>\n",
       "      <td>-0.529817</td>\n",
       "      <td>-1.808920</td>\n",
       "      <td>-0.159462</td>\n",
       "    </tr>\n",
       "    <tr>\n",
       "      <th>1:69849:G:A</th>\n",
       "      <td>0.579482</td>\n",
       "      <td>0.040292</td>\n",
       "      <td>-2.020403</td>\n",
       "    </tr>\n",
       "    <tr>\n",
       "      <th>1:69866:C:A</th>\n",
       "      <td>-1.479302</td>\n",
       "      <td>-0.051390</td>\n",
       "      <td>0.486806</td>\n",
       "    </tr>\n",
       "    <tr>\n",
       "      <th>ENSG00000187634</th>\n",
       "      <th>1:925960:C:T</th>\n",
       "      <td>-1.896887</td>\n",
       "      <td>1.633709</td>\n",
       "      <td>-0.241682</td>\n",
       "    </tr>\n",
       "    <tr>\n",
       "      <th>...</th>\n",
       "      <th>...</th>\n",
       "      <td>...</td>\n",
       "      <td>...</td>\n",
       "      <td>...</td>\n",
       "    </tr>\n",
       "    <tr>\n",
       "      <th>ENSG00000242875</th>\n",
       "      <th>24:21549016:C:T</th>\n",
       "      <td>-0.545992</td>\n",
       "      <td>-0.599044</td>\n",
       "      <td>-0.755441</td>\n",
       "    </tr>\n",
       "    <tr>\n",
       "      <th>ENSG00000169800</th>\n",
       "      <th>24:22180882:T:A</th>\n",
       "      <td>0.719216</td>\n",
       "      <td>-0.547347</td>\n",
       "      <td>-0.119536</td>\n",
       "    </tr>\n",
       "    <tr>\n",
       "      <th>ENSG00000226941</th>\n",
       "      <th>24:22405443:G:A</th>\n",
       "      <td>1.068421</td>\n",
       "      <td>0.428079</td>\n",
       "      <td>-0.656471</td>\n",
       "    </tr>\n",
       "    <tr>\n",
       "      <th>ENSG00000188120</th>\n",
       "      <th>24:23167257:C:T</th>\n",
       "      <td>1.444156</td>\n",
       "      <td>1.370327</td>\n",
       "      <td>-0.458872</td>\n",
       "    </tr>\n",
       "    <tr>\n",
       "      <th>ENSG00000185894</th>\n",
       "      <th>24:25043944:A:G</th>\n",
       "      <td>-0.066001</td>\n",
       "      <td>0.638623</td>\n",
       "      <td>-0.752907</td>\n",
       "    </tr>\n",
       "  </tbody>\n",
       "</table>\n",
       "<p>145816 rows × 3 columns</p>\n",
       "</div>"
      ],
      "text/plain": [
       "                                       x1        x2        x3\n",
       "gene            vid                                          \n",
       "ENSG00000186092 1:69293:C:A     -0.520332  0.120156  0.368345\n",
       "                1:69745:C:T     -0.529817 -1.808920 -0.159462\n",
       "                1:69849:G:A      0.579482  0.040292 -2.020403\n",
       "                1:69866:C:A     -1.479302 -0.051390  0.486806\n",
       "ENSG00000187634 1:925960:C:T    -1.896887  1.633709 -0.241682\n",
       "...                                   ...       ...       ...\n",
       "ENSG00000242875 24:21549016:C:T -0.545992 -0.599044 -0.755441\n",
       "ENSG00000169800 24:22180882:T:A  0.719216 -0.547347 -0.119536\n",
       "ENSG00000226941 24:22405443:G:A  1.068421  0.428079 -0.656471\n",
       "ENSG00000188120 24:23167257:C:T  1.444156  1.370327 -0.458872\n",
       "ENSG00000185894 24:25043944:A:G -0.066001  0.638623 -0.752907\n",
       "\n",
       "[145816 rows x 3 columns]"
      ]
     },
     "execution_count": 286,
     "metadata": {},
     "output_type": "execute_result"
    }
   ],
   "source": [
    "# excluding variants:\n",
    "iddf"
   ]
  },
  {
   "cell_type": "code",
   "execution_count": 290,
   "metadata": {},
   "outputs": [
    {
     "data": {
      "text/plain": [
       "\u001b[0;31mSignature:\u001b[0m \u001b[0middf\u001b[0m\u001b[0;34m.\u001b[0m\u001b[0mindex\u001b[0m\u001b[0;34m.\u001b[0m\u001b[0mdrop\u001b[0m\u001b[0;34m(\u001b[0m\u001b[0mcodes\u001b[0m\u001b[0;34m,\u001b[0m \u001b[0mlevel\u001b[0m\u001b[0;34m=\u001b[0m\u001b[0;32mNone\u001b[0m\u001b[0;34m,\u001b[0m \u001b[0merrors\u001b[0m\u001b[0;34m=\u001b[0m\u001b[0;34m'raise'\u001b[0m\u001b[0;34m)\u001b[0m\u001b[0;34m\u001b[0m\u001b[0;34m\u001b[0m\u001b[0m\n",
       "\u001b[0;31mDocstring:\u001b[0m\n",
       "Make new MultiIndex with passed list of codes deleted\n",
       "\n",
       "Parameters\n",
       "----------\n",
       "codes : array-like\n",
       "    Must be a list of tuples\n",
       "level : int or level name, default None\n",
       "errors : str, default 'raise'\n",
       "\n",
       "Returns\n",
       "-------\n",
       "dropped : MultiIndex\n",
       "\u001b[0;31mFile:\u001b[0m      ~/miniconda3/envs/seak/lib/python3.8/site-packages/pandas/core/indexes/multi.py\n",
       "\u001b[0;31mType:\u001b[0m      method\n"
      ]
     },
     "metadata": {},
     "output_type": "display_data"
    }
   ],
   "source": [
    "?iddf.index.drop"
   ]
  },
  {
   "cell_type": "code",
   "execution_count": 296,
   "metadata": {},
   "outputs": [
    {
     "data": {
      "text/plain": [
       "MultiIndex([('ENSG00000186092',     '1:69293:C:A'),\n",
       "            ('ENSG00000186092',     '1:69849:G:A'),\n",
       "            ('ENSG00000186092',     '1:69866:C:A'),\n",
       "            ('ENSG00000187634',    '1:925960:C:T'),\n",
       "            ('ENSG00000187634',    '1:930221:C:T'),\n",
       "            ('ENSG00000187634',    '1:935806:G:A'),\n",
       "            ('ENSG00000187634',    '1:935897:G:T'),\n",
       "            ('ENSG00000187634',    '1:939111:C:T'),\n",
       "            ('ENSG00000187634',    '1:939379:C:T'),\n",
       "            ('ENSG00000187634',    '1:941170:G:A'),\n",
       "            ...\n",
       "            ('ENSG00000280969', '24:20756856:G:C'),\n",
       "            ('ENSG00000280969', '24:20768877:C:T'),\n",
       "            ('ENSG00000183146', '24:21383797:C:G'),\n",
       "            ('ENSG00000234414', '24:21548164:G:C'),\n",
       "            ('ENSG00000234414', '24:21549016:C:T'),\n",
       "            ('ENSG00000242875', '24:21549016:C:T'),\n",
       "            ('ENSG00000169800', '24:22180882:T:A'),\n",
       "            ('ENSG00000226941', '24:22405443:G:A'),\n",
       "            ('ENSG00000188120', '24:23167257:C:T'),\n",
       "            ('ENSG00000185894', '24:25043944:A:G')],\n",
       "           names=['gene', 'vid'], length=145815)"
      ]
     },
     "execution_count": 296,
     "metadata": {},
     "output_type": "execute_result"
    }
   ],
   "source": [
    "# dropping variants requires reindexing...\n",
    "iddf.index.drop('1:69745:C:T', level=1)"
   ]
  },
  {
   "cell_type": "code",
   "execution_count": 344,
   "metadata": {},
   "outputs": [
    {
     "data": {
      "text/plain": [
       "Index(['1:69293:C:A', '1:69745:C:T', '1:69849:G:A', '1:69866:C:A',\n",
       "       '1:925960:C:T', '1:930221:C:T', '1:935806:G:A', '1:935897:G:T',\n",
       "       '1:939111:C:T', '1:939379:C:T',\n",
       "       ...\n",
       "       '24:20756856:G:C', '24:20768877:C:T', '24:21383797:C:G',\n",
       "       '24:21548164:G:C', '24:21549016:C:T', '24:21549016:C:T',\n",
       "       '24:22180882:T:A', '24:22405443:G:A', '24:23167257:C:T',\n",
       "       '24:25043944:A:G'],\n",
       "      dtype='object', name='vid', length=145816)"
      ]
     },
     "execution_count": 344,
     "metadata": {},
     "output_type": "execute_result"
    }
   ],
   "source": [
    "iddf.index.get_level_values('vid')"
   ]
  },
  {
   "cell_type": "code",
   "execution_count": 176,
   "metadata": {},
   "outputs": [
    {
     "data": {
      "text/plain": [
       "Index(['1:69293:C:A', '1:69745:C:T', '1:69849:G:A', '1:69866:C:A',\n",
       "       '1:925960:C:T', '1:930221:C:T', '1:935806:G:A', '1:935897:G:T',\n",
       "       '1:939111:C:T', '1:939379:C:T',\n",
       "       ...\n",
       "       '24:20756856:G:C', '24:20768877:C:T', '24:21383797:C:G',\n",
       "       '24:21548164:G:C', '24:21549016:C:T', '24:21549016:C:T',\n",
       "       '24:22180882:T:A', '24:22405443:G:A', '24:23167257:C:T',\n",
       "       '24:25043944:A:G'],\n",
       "      dtype='object', name='vid', length=145816)"
      ]
     },
     "execution_count": 176,
     "metadata": {},
     "output_type": "execute_result"
    }
   ],
   "source": [
    "iddf.index.droplevel('gene')"
   ]
  },
  {
   "cell_type": "code",
   "execution_count": 321,
   "metadata": {},
   "outputs": [],
   "source": [
    "posdf = pd.DataFrame(uploaded_variation.values, index=pd.MultiIndex.from_arrays([chrom, pd.IntervalIndex.from_arrays(pos-1,pos,closed='left')], names=['chrom','pos']))\n",
    "posdf.sort_index(level=['chrom','pos'], inplace=True)"
   ]
  },
  {
   "cell_type": "code",
   "execution_count": 328,
   "metadata": {},
   "outputs": [
    {
     "data": {
      "text/html": [
       "<div>\n",
       "<style scoped>\n",
       "    .dataframe tbody tr th:only-of-type {\n",
       "        vertical-align: middle;\n",
       "    }\n",
       "\n",
       "    .dataframe tbody tr th {\n",
       "        vertical-align: top;\n",
       "    }\n",
       "\n",
       "    .dataframe thead th {\n",
       "        text-align: right;\n",
       "    }\n",
       "</style>\n",
       "<table border=\"1\" class=\"dataframe\">\n",
       "  <thead>\n",
       "    <tr style=\"text-align: right;\">\n",
       "      <th></th>\n",
       "      <th>0</th>\n",
       "    </tr>\n",
       "    <tr>\n",
       "      <th>pos</th>\n",
       "      <th></th>\n",
       "    </tr>\n",
       "  </thead>\n",
       "  <tbody>\n",
       "    <tr>\n",
       "      <th>[69292, 69293)</th>\n",
       "      <td>1:69293:C:A</td>\n",
       "    </tr>\n",
       "    <tr>\n",
       "      <th>[69744, 69745)</th>\n",
       "      <td>1:69745:C:T</td>\n",
       "    </tr>\n",
       "    <tr>\n",
       "      <th>[69848, 69849)</th>\n",
       "      <td>1:69849:G:A</td>\n",
       "    </tr>\n",
       "    <tr>\n",
       "      <th>[69865, 69866)</th>\n",
       "      <td>1:69866:C:A</td>\n",
       "    </tr>\n",
       "    <tr>\n",
       "      <th>[925959, 925960)</th>\n",
       "      <td>1:925960:C:T</td>\n",
       "    </tr>\n",
       "    <tr>\n",
       "      <th>...</th>\n",
       "      <td>...</td>\n",
       "    </tr>\n",
       "    <tr>\n",
       "      <th>[9975730, 9975731)</th>\n",
       "      <td>1:9975731:G:A</td>\n",
       "    </tr>\n",
       "    <tr>\n",
       "      <th>[9981070, 9981071)</th>\n",
       "      <td>1:9981071:C:T</td>\n",
       "    </tr>\n",
       "    <tr>\n",
       "      <th>[9982367, 9982368)</th>\n",
       "      <td>1:9982368:G:A</td>\n",
       "    </tr>\n",
       "    <tr>\n",
       "      <th>[9997258, 9997259)</th>\n",
       "      <td>1:9997259:A:G</td>\n",
       "    </tr>\n",
       "    <tr>\n",
       "      <th>[9997331, 9997332)</th>\n",
       "      <td>1:9997332:G:A</td>\n",
       "    </tr>\n",
       "  </tbody>\n",
       "</table>\n",
       "<p>1123 rows × 1 columns</p>\n",
       "</div>"
      ],
      "text/plain": [
       "                                0\n",
       "pos                              \n",
       "[69292, 69293)        1:69293:C:A\n",
       "[69744, 69745)        1:69745:C:T\n",
       "[69848, 69849)        1:69849:G:A\n",
       "[69865, 69866)        1:69866:C:A\n",
       "[925959, 925960)     1:925960:C:T\n",
       "...                           ...\n",
       "[9975730, 9975731)  1:9975731:G:A\n",
       "[9981070, 9981071)  1:9981071:C:T\n",
       "[9982367, 9982368)  1:9982368:G:A\n",
       "[9997258, 9997259)  1:9997259:A:G\n",
       "[9997331, 9997332)  1:9997332:G:A\n",
       "\n",
       "[1123 rows x 1 columns]"
      ]
     },
     "execution_count": 328,
     "metadata": {},
     "output_type": "execute_result"
    }
   ],
   "source": [
    "posdf.loc['1'][posdf.loc['1'].index.overlaps(pd.Interval(0,10000000,closed='left'))]"
   ]
  },
  {
   "cell_type": "code",
   "execution_count": 189,
   "metadata": {},
   "outputs": [
    {
     "data": {
      "text/plain": [
       "array([[('ENSG00000186092', '1:69293:C:A')],\n",
       "       [('ENSG00000186092', '1:69745:C:T')],\n",
       "       [('ENSG00000186092', '1:69849:G:A')]], dtype=object)"
      ]
     },
     "execution_count": 189,
     "metadata": {},
     "output_type": "execute_result"
    }
   ],
   "source": [
    "posdf.loc['1'][posdf.loc['1'].index.overlaps(pd.Interval(69292, 69849, closed='left'))]"
   ]
  },
  {
   "cell_type": "code",
   "execution_count": 190,
   "metadata": {},
   "outputs": [
    {
     "data": {
      "text/plain": [
       "array([[('ENSG00000186092', '1:69293:C:A')],\n",
       "       [('ENSG00000186092', '1:69745:C:T')],\n",
       "       [('ENSG00000186092', '1:69849:G:A')]], dtype=object)"
      ]
     },
     "execution_count": 190,
     "metadata": {},
     "output_type": "execute_result"
    }
   ],
   "source": [
    "posdf.loc['1'][posdf.loc['1'].index.overlaps(pd.Interval(69292, 69849, closed='left'))].values"
   ]
  },
  {
   "cell_type": "code",
   "execution_count": 198,
   "metadata": {},
   "outputs": [
    {
     "data": {
      "text/html": [
       "<div>\n",
       "<style scoped>\n",
       "    .dataframe tbody tr th:only-of-type {\n",
       "        vertical-align: middle;\n",
       "    }\n",
       "\n",
       "    .dataframe tbody tr th {\n",
       "        vertical-align: top;\n",
       "    }\n",
       "\n",
       "    .dataframe thead th {\n",
       "        text-align: right;\n",
       "    }\n",
       "</style>\n",
       "<table border=\"1\" class=\"dataframe\">\n",
       "  <thead>\n",
       "    <tr style=\"text-align: right;\">\n",
       "      <th></th>\n",
       "      <th></th>\n",
       "      <th>x1</th>\n",
       "      <th>x2</th>\n",
       "      <th>x3</th>\n",
       "    </tr>\n",
       "    <tr>\n",
       "      <th>gene</th>\n",
       "      <th>vid</th>\n",
       "      <th></th>\n",
       "      <th></th>\n",
       "      <th></th>\n",
       "    </tr>\n",
       "  </thead>\n",
       "  <tbody>\n",
       "    <tr>\n",
       "      <th rowspan=\"3\" valign=\"top\">ENSG00000186092</th>\n",
       "      <th>1:69293:C:A</th>\n",
       "      <td>-0.520332</td>\n",
       "      <td>0.120156</td>\n",
       "      <td>0.368345</td>\n",
       "    </tr>\n",
       "    <tr>\n",
       "      <th>1:69745:C:T</th>\n",
       "      <td>-0.529817</td>\n",
       "      <td>-1.808920</td>\n",
       "      <td>-0.159462</td>\n",
       "    </tr>\n",
       "    <tr>\n",
       "      <th>1:69849:G:A</th>\n",
       "      <td>0.579482</td>\n",
       "      <td>0.040292</td>\n",
       "      <td>-2.020403</td>\n",
       "    </tr>\n",
       "  </tbody>\n",
       "</table>\n",
       "</div>"
      ],
      "text/plain": [
       "                                   x1        x2        x3\n",
       "gene            vid                                      \n",
       "ENSG00000186092 1:69293:C:A -0.520332  0.120156  0.368345\n",
       "                1:69745:C:T -0.529817 -1.808920 -0.159462\n",
       "                1:69849:G:A  0.579482  0.040292 -2.020403"
      ]
     },
     "execution_count": 198,
     "metadata": {},
     "output_type": "execute_result"
    }
   ],
   "source": [
    "iddf.loc[posdf.loc['1'][posdf.loc['1'].index.overlaps(pd.Interval(69292, 69849, closed='left'))].values[:,0]]"
   ]
  },
  {
   "cell_type": "code",
   "execution_count": 306,
   "metadata": {},
   "outputs": [
    {
     "data": {
      "text/html": [
       "<div>\n",
       "<style scoped>\n",
       "    .dataframe tbody tr th:only-of-type {\n",
       "        vertical-align: middle;\n",
       "    }\n",
       "\n",
       "    .dataframe tbody tr th {\n",
       "        vertical-align: top;\n",
       "    }\n",
       "\n",
       "    .dataframe thead th {\n",
       "        text-align: right;\n",
       "    }\n",
       "</style>\n",
       "<table border=\"1\" class=\"dataframe\">\n",
       "  <thead>\n",
       "    <tr style=\"text-align: right;\">\n",
       "      <th></th>\n",
       "      <th></th>\n",
       "      <th>x1</th>\n",
       "      <th>x2</th>\n",
       "      <th>x3</th>\n",
       "    </tr>\n",
       "    <tr>\n",
       "      <th>gene</th>\n",
       "      <th>vid</th>\n",
       "      <th></th>\n",
       "      <th></th>\n",
       "      <th></th>\n",
       "    </tr>\n",
       "  </thead>\n",
       "  <tbody>\n",
       "    <tr>\n",
       "      <th>ENSG00000186092</th>\n",
       "      <th>1:69293:C:A</th>\n",
       "      <td>-0.520332</td>\n",
       "      <td>0.120156</td>\n",
       "      <td>0.368345</td>\n",
       "    </tr>\n",
       "  </tbody>\n",
       "</table>\n",
       "</div>"
      ],
      "text/plain": [
       "                                   x1        x2        x3\n",
       "gene            vid                                      \n",
       "ENSG00000186092 1:69293:C:A -0.520332  0.120156  0.368345"
      ]
     },
     "execution_count": 306,
     "metadata": {},
     "output_type": "execute_result"
    }
   ],
   "source": [
    "iddf.loc[posdf.loc['1'][posdf.loc['1'].index.overlaps(pd.Interval(69292, 69700, closed='left'))].values[:,0]]"
   ]
  },
  {
   "cell_type": "code",
   "execution_count": 350,
   "metadata": {},
   "outputs": [
    {
     "data": {
      "text/html": [
       "<div>\n",
       "<style scoped>\n",
       "    .dataframe tbody tr th:only-of-type {\n",
       "        vertical-align: middle;\n",
       "    }\n",
       "\n",
       "    .dataframe tbody tr th {\n",
       "        vertical-align: top;\n",
       "    }\n",
       "\n",
       "    .dataframe thead th {\n",
       "        text-align: right;\n",
       "    }\n",
       "</style>\n",
       "<table border=\"1\" class=\"dataframe\">\n",
       "  <thead>\n",
       "    <tr style=\"text-align: right;\">\n",
       "      <th></th>\n",
       "      <th></th>\n",
       "      <th>0</th>\n",
       "    </tr>\n",
       "    <tr>\n",
       "      <th>chrom</th>\n",
       "      <th>pos</th>\n",
       "      <th></th>\n",
       "    </tr>\n",
       "  </thead>\n",
       "  <tbody>\n",
       "    <tr>\n",
       "      <th rowspan=\"2\" valign=\"top\">1</th>\n",
       "      <th>[69292, 69293)</th>\n",
       "      <td>1:69293:C:A</td>\n",
       "    </tr>\n",
       "    <tr>\n",
       "      <th>[69744, 69745)</th>\n",
       "      <td>1:69745:C:T</td>\n",
       "    </tr>\n",
       "  </tbody>\n",
       "</table>\n",
       "</div>"
      ],
      "text/plain": [
       "                                0\n",
       "chrom pos                        \n",
       "1     [69292, 69293)  1:69293:C:A\n",
       "      [69744, 69745)  1:69745:C:T"
      ]
     },
     "execution_count": 350,
     "metadata": {},
     "output_type": "execute_result"
    }
   ],
   "source": [
    "posdf.loc[posdf[0].isin(pd.Series(['1:69293:C:A','1:69745:C:T']))]"
   ]
  },
  {
   "cell_type": "code",
   "execution_count": 335,
   "metadata": {},
   "outputs": [
    {
     "data": {
      "text/html": [
       "<div>\n",
       "<style scoped>\n",
       "    .dataframe tbody tr th:only-of-type {\n",
       "        vertical-align: middle;\n",
       "    }\n",
       "\n",
       "    .dataframe tbody tr th {\n",
       "        vertical-align: top;\n",
       "    }\n",
       "\n",
       "    .dataframe thead th {\n",
       "        text-align: right;\n",
       "    }\n",
       "</style>\n",
       "<table border=\"1\" class=\"dataframe\">\n",
       "  <thead>\n",
       "    <tr style=\"text-align: right;\">\n",
       "      <th></th>\n",
       "      <th></th>\n",
       "      <th>x1</th>\n",
       "      <th>x2</th>\n",
       "      <th>x3</th>\n",
       "    </tr>\n",
       "    <tr>\n",
       "      <th>gene</th>\n",
       "      <th>vid</th>\n",
       "      <th></th>\n",
       "      <th></th>\n",
       "      <th></th>\n",
       "    </tr>\n",
       "  </thead>\n",
       "  <tbody>\n",
       "  </tbody>\n",
       "</table>\n",
       "</div>"
      ],
      "text/plain": [
       "Empty DataFrame\n",
       "Columns: [x1, x2, x3]\n",
       "Index: []"
      ]
     },
     "execution_count": 335,
     "metadata": {},
     "output_type": "execute_result"
    }
   ],
   "source": [
    "iddf[slice(0,0)]"
   ]
  }
 ],
 "metadata": {
  "kernelspec": {
   "display_name": "Python 2",
   "language": "python",
   "name": "python2"
  },
  "language_info": {
   "codemirror_mode": {
    "name": "ipython",
    "version": 2
   },
   "file_extension": ".py",
   "mimetype": "text/x-python",
   "name": "python",
   "nbconvert_exporter": "python",
   "pygments_lexer": "ipython2",
   "version": "2.7.15"
  }
 },
 "nbformat": 4,
 "nbformat_minor": 4
}
